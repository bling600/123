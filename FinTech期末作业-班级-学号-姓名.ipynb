{
 "cells": [
  {
   "cell_type": "markdown",
   "metadata": {},
   "source": [
    "### 期末作业要求（请务必仔细阅读）：\n",
    "\n",
    "1. 请将期末作业于 <font color=red>**2025年1月10日0点至24点之间**</font> 提交至邮箱 liyan_zjgsu@163.com ，<font color=red>请勿提早或延迟提交</font>。\n",
    "\n",
    "2. 请以<font color=red>**jupyter notebook**</font>的格式提交作业(后缀名为.ipynb)，<font color=red>**拒绝** .doc、.pdf、.py、压缩包等其它任意格式的文件。</font>  \n",
    "   请保证你提交的作业<font color=red>仅包含**一个**</font>jupyter notebook文件，<font color=red>**拒绝**将每道题目以独立的jupyter notebook分开提交。</font>\n",
    "   \n",
    "3. <font color=red>**作业和邮件标题**的命名方式均需为**FinTech期末作业-班级-姓名-学号**</font>。\n",
    "\n",
    "4. 请将ipynb文件直接以<font color=red>**附件**</font>形式attach在邮件中，<font color=red>**拒绝**百度网盘、qq邮箱存储空间等一切形式的外部链接。</font>\n",
    "\n",
    "5. 作业内容应包括<font color=red>**代码、代码输出的结果、以及对结果的文字说明与解释**</font>。\n",
    "\n",
    "6. 请使用课程相关内容解答问题，作业中<font color=red>**不要**</font>涉及课件中未使用过的第三方库。\n",
    "\n",
    "7. 为了便于给分以及避免漏判，请大家注意：  \n",
    "(a)代码的**模块化**与**可读性**  \n",
    "(b)尽可能写明**文字注释**，包括对结果的解释、结果与题目对应关系的说明等等  \n",
    "(c)尽量使用**图表**"
   ]
  },
  {
   "cell_type": "markdown",
   "metadata": {},
   "source": [
    "---\n",
    "\n",
    "班级：    \n",
    "学号：    \n",
    "姓名：    "
   ]
  },
  {
   "cell_type": "markdown",
   "metadata": {},
   "source": [
    "---\n",
    "**问题：**\n",
    "\n",
    "    请结合课程内容，对'员工离职.csv'数据集进行预测，哪种模型的预测效果最佳？为什么？如何优化预测结果？\n",
    "\n",
    "**解答：**"
   ]
  },
  {
   "cell_type": "code",
   "execution_count": null,
   "metadata": {},
   "outputs": [],
   "source": []
  },
  {
   "cell_type": "code",
   "execution_count": null,
   "metadata": {},
   "outputs": [],
   "source": []
  }
 ],
 "metadata": {
  "kernelspec": {
   "display_name": "Python 3 (ipykernel)",
   "language": "python",
   "name": "python3"
  },
  "language_info": {
   "codemirror_mode": {
    "name": "ipython",
    "version": 3
   },
   "file_extension": ".py",
   "mimetype": "text/x-python",
   "name": "python",
   "nbconvert_exporter": "python",
   "pygments_lexer": "ipython3",
   "version": "3.8.18"
  }
 },
 "nbformat": 4,
 "nbformat_minor": 4
}
